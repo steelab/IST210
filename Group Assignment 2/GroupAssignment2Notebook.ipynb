{
 "cells": [
  {
   "cell_type": "markdown",
   "metadata": {},
   "source": [
    "## Group Assignment 2\n",
    "\n",
    "<img src=\"GroupAssignment2Model.svg\">"
   ]
  },
  {
   "cell_type": "markdown",
   "metadata": {},
   "source": [
    "The first of our 5 entities is the User and this table’s attributes are basic information about our user as well as 2 foreign keys, Doctor and HealthID. Our user “has” (verb=relationships) health information which includes height/weight, Body Fat %, and a Resting Metabolic Rate. There can be many users but each user can have one and only a single distinct HealthInformation table. As shown by the cardinality in the diagram, we have a range of 1 to 100 for users and each user can have one and only one health info table. A user “does” (verb, also a relationship) activity and this entity includes basic activity statistics such as their average daily steps, distance walked (in meters), and calories burnt. Just like the Health Information table, each User can have one and only one Activity entity. Thus the cardinality is the same as discussed before, (1,100) for our users (we are assuming we can only have 100 users) and(1,1) for each user. A user can visit a doctor and there are multiple doctors as shown by the cardanility (1,10) we assume that there are 10 doctors. Thus many users can visit many doctors. Each doctor entity has their name and what hospital they are listed at which is a foreign key. Each doctor works at a hospital And each doctor can only work either of the 3 hospitals as listed in the (0,3) cardinality. One to many doctors can work at 0 or many hospitals. We chose to design our entities around the user and they interact and have relationships with the majority of the entities except for the hospital where the doctor works at.   "
   ]
  }
 ],
 "metadata": {
  "kernelspec": {
   "display_name": "Python 3",
   "language": "python",
   "name": "python3"
  },
  "language_info": {
   "codemirror_mode": {
    "name": "ipython",
    "version": 3
   },
   "file_extension": ".py",
   "mimetype": "text/x-python",
   "name": "python",
   "nbconvert_exporter": "python",
   "pygments_lexer": "ipython3",
   "version": "3.7.3"
  }
 },
 "nbformat": 4,
 "nbformat_minor": 2
}
