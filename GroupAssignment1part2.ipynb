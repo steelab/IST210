{
 "cells": [
  {
   "cell_type": "markdown",
   "metadata": {},
   "source": [
    "## Background & Goals"
   ]
  },
  {
   "cell_type": "markdown",
   "metadata": {},
   "source": [
    "This database will be recording and tracking health metrics. Our generation is adapting to a world where all of our technology and information is directly linked together and information about our body shouldnt be excluded. Our main goal for tracking health metrics is to ultimately make users aware of their overall health and fitness. This goal will be achieved through getting specific health metrics from our end user and alerting them on their fitness/lifestyle progress. Another goal is to have doctors to be able to analyze these records and point out those who display unhealthy aspects/attributes and then they could get recommendation from doctors on how to combat these problems. We will be basing this idea off of the Fitbit and the Apple Watch, and how they track data and inform users of their daily health goals. We will be fitting these statistics into ranges and saying what is considered to be healthy or unhealthy/meeting goals or not meeting goals. Although we are borrowing this idea from a business operation that has already existed for several years, we are offering different metrics and measurements than the Apple Watch and the Fitbit, like the resting metabolic rate and body fat percentage."
   ]
  },
  {
   "cell_type": "markdown",
   "metadata": {},
   "source": [
    "![Image of Health Metric](https://www.mobihealthnews.com/sites/default/files/wp-content/uploads/2014/06/HealthKit.jpg)\n"
   ]
  },
  {
   "cell_type": "markdown",
   "metadata": {},
   "source": [
    "## Entities, Relationships, Attributes, and Constraints"
   ]
  },
  {
   "cell_type": "markdown",
   "metadata": {},
   "source": [
    "| Person Name | Height  (inches) | Weight  (pounds) | Body Fat % | Resting Metabolic rate | Heart Rate (dynamic) |\n",
    "|-------------|------------------|------------------|------------|------------------------|----------------------|\n",
    "| Tom         | 74               | 230              | 13         | 2050                   | 55                   |\n",
    "| Maria       | 62               | 110              | 25         | 1500                   | 70                   |\n",
    "| Jose        | 60               | 190              | 20         | 1650                   | 130                  |"
   ]
  },
  {
   "cell_type": "markdown",
   "metadata": {},
   "source": [
    " Our group wants to emphasize that your resting metabolic heart rate and your regular heart rate are ultimate tests about your overall fitness and health. We are tracking heart rate, height, weight, body fat %, and resting metabolic rate (calories burned when doing nothing). The heart rate will be our dynamic table. The entity is the person who will be the person the health metrics will be based off of, and the rest of the columns are attributes of the person. For constraints we will bound the height to 120, nobody taller than 10 feet. Weight will be capped at 400 and the heart rate will be capped at 250. When it comes to table relationships, technically the table above does not have any. All of this data would be entered by the end user separately. However, it is known that there is somewhat of a correlation between certain tables. For example typically the higher a user weight or the taller a person is this will typically increase the resting metabolic rate. However it isn't exactly a direct relationship. If it was then this column could have been calculated, ex. enter height and weight and we will give you a metabolic rate estimate. Here is a diagram which shows a flowchart describing this table, https://drive.google.com/file/d/1Loe-1hO-S5CONlLFhz7Nmrb_WAMXdlyk/view .  "
   ]
  },
  {
   "cell_type": "markdown",
   "metadata": {},
   "source": [
    "## Further Application & Goals"
   ]
  },
  {
   "cell_type": "markdown",
   "metadata": {},
   "source": [
    "In addition to the goals listed above, we specifically would like to promote a healthy lifestyle among college students. The habits that students create now can stick with them for the rest of their lives and we were eager to apply these tables to fulfilling that goal. We would be interested in adding additional data about students and their college lives and comparing that to their health data to find certain trends. We would like to start with information about what our end user is studying such as their major and we can find out for example, whether engineering majors are significantly less healthy than business majors at Penn State."
   ]
  }
 ],
 "metadata": {
  "kernelspec": {
   "display_name": "Python 3",
   "language": "python",
   "name": "python3"
  },
  "language_info": {
   "codemirror_mode": {
    "name": "ipython",
    "version": 3
   },
   "file_extension": ".py",
   "mimetype": "text/x-python",
   "name": "python",
   "nbconvert_exporter": "python",
   "pygments_lexer": "ipython3",
   "version": "3.7.3"
  }
 },
 "nbformat": 4,
 "nbformat_minor": 2
}
