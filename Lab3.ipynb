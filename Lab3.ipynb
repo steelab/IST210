{
 "cells": [
  {
   "cell_type": "markdown",
   "metadata": {},
   "source": [
    "# Lab 3\n",
    "\n",
    "Fish and Pets are quite similar in their function and usage with the only difference being that fish are kept in aquariums while pets are kept in enclosures. Due to this we decided to design our Fish and Pet entities in a similar manner. Here, multiple fish/pets can be in single aquarium but can only have one aquarium/ enclosure for each pet/fish. Each has an ID as the primary key as well as a Type,Price,Storage Container Id,Food Type and the price. For the enclosure/aquarium we have a primary key to identify each specific one and each one has the attribute which describes the number of animals it holds. Each animal lives in an enclosure/aquarium. For our food entity the primary key is what kind of food it is, and attributes are the cost of said food and the quantity. Also, each pet/fish only has one type of food but a single type of food can be fed to multiple fish/pet. In order to track the entity purchases each purchase has a transactionID as the primary key. The attributes include which pet/fish they bought and the food type they bought which is a foreign key in the Purchases table. The customer makes purchases and one customer can make many purchases but these purchases can only be linked to one and only one purchases, obviously there can be multiple customers. In the purchases entity table, 2 attributes are for identifying which pet or fish was purchased. One and only one pet/fish can be purchased per purchase.  \t"
   ]
  },
  {
   "cell_type": "markdown",
   "metadata": {},
   "source": [
    "<img src=\"Lab3ER.png\">"
   ]
  }
 ],
 "metadata": {
  "kernelspec": {
   "display_name": "Python 3",
   "language": "python",
   "name": "python3"
  },
  "language_info": {
   "codemirror_mode": {
    "name": "ipython",
    "version": 3
   },
   "file_extension": ".py",
   "mimetype": "text/x-python",
   "name": "python",
   "nbconvert_exporter": "python",
   "pygments_lexer": "ipython3",
   "version": "3.7.3"
  }
 },
 "nbformat": 4,
 "nbformat_minor": 2
}
