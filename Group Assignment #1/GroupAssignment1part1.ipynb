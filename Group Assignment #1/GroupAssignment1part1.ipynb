{
 "cells": [
  {
   "cell_type": "markdown",
   "metadata": {},
   "source": [
    "## Health Database\n",
    "\n",
    "This database will be recording and tracking health metrics. Our generation is adapting to a world where all of our technology and information is directly linked together. Our main goal for tracking health metrics is to ultimately make users aware of their overall health and fitness. Specifically, we think it’s important to be tracking your heart rate and to try and maintain a low heart rate throughout the day. Our group wants to emphasize that your resting metabolic heart rate and your regular heart rate are ultimate tests about your overall fitness and health. We are tracking heart rate, height, weight, body fat %, and resting metabolic rate (calories burned when doing nothing). The heart rate will be our dynamic table. The entity is the person who will be the person the health metrics will be based off of, and the rest of the columns are attributes of the person. We will be basing this idea off of the Fitbit and the Apple Watch, and how they track data and inform users of their daily health goals and overall health metrics. We will be fitting these statistics into ranges and parameters and deciding what is considered to be healthy or unhealthy/meeting goals or not meeting goals. Although we are borrowing this idea from a business operation that has already existed for several years, we are providing additional health metrics and measurements than the Apple Watch and the Fitbit, like the resting metabolic rate and body fat percentage. For constraints we will bound the height to 120, nobody taller than 10 feet. Weight will be capped at 400 and the heart rate will be capped at 250.\n",
    "\n",
    "[Diagram outlining the tables]\n",
    "https://drive.google.com/file/d/1Loe-1hO-S5CONlLFhz7Nmrb_WAMXdlyk/view?usp=sharing"
   ]
  },
  {
   "cell_type": "markdown",
   "metadata": {},
   "source": [
    "| Person Name | Height  (inches) | Weight  (pounds) | Body Fat % | Resting Metabolic Rate | Heart Rate (dynamic) |\n",
    "|-------------|------------------|------------------|------------|------------------------|----------------------|\n",
    "| Tom         | 74               | 230              | 13         | 2050                   | 55                   |\n",
    "| Maria       | 62               | 110              | 25         | 1500                   | 70                   |\n",
    "| Jose        | 60               | 190              | 20         | 1650                   | 130                  |"
   ]
  },
  {
   "cell_type": "markdown",
   "metadata": {},
   "source": [
    "## Music Database\n"
   ]
  },
  {
   "cell_type": "markdown",
   "metadata": {},
   "source": [
    "The goal of this database is to inform the music artist as well as the artist’s record label of how successful their music is by looking at how high their song’s position is on the Billboard. With the high success rates and the millions upon millions of people enrolled in Apple Music and Spotify, we would like to give feedback to music listeners about the overall status and success levels of songs. For example, in our chart we outlined that the song “Truth Hurts” by Lizzo is a Pop song with a 200 second duration and is currently is the number one position on the Billboard. We decided to track the duration of the songs in seconds as a standard measurement of time. The position of the song on the Billboard will be dynamic. In this database there is one entity, the song’s name, and all of the other columns are attributes of the entity. We are basing this database off of Spotify, Apple Music and Billboard website, but we will be presenting additional data that we gather from an outside source, which will be the highest position on the Billboard. \n",
    "\n",
    "| Song Name   | Artist        | Genre   | Duration of song (seconds) | Position on Billboard (dynamic) |\n",
    "|-------------|---------------|---------|----------------------------|---------------------------------|\n",
    "| No Guidance | Chris Brown   | R&B     | 250                        | 11                              |\n",
    "| Magnolia    | Playboi Carti | Hip Hop | 182                        | 7                               |\n",
    "| Truth Hurts | Lizzo         | Pop     | 200                        | 1                               |\n"
   ]
  },
  {
   "cell_type": "markdown",
   "metadata": {},
   "source": [
    "## Movie Database\n",
    "Our group will be tracking how successful a certain movie is. We will be tracking the tickets sold, which will be the dynamic table, the price per ticket, and the movie’s name, genre, and director. We will find out how successful the movie is by looking at how many tickets are being sold per movie multiplied by the price per ticket. This will be an example of a relationship between two attributes of the same entity. In this database there is only one entity, Movie Name. The rest of the columns are attributes of the movie, such as the genre, the director, run time and price per ticket. Tickets sold is our dynamic table as it will update us with the amount of tickets sold over time. When it comes to the Genre table there will be certain constraints because there are certain categories.  For running times we will want to restrict the field to numbers and we would only want positive numbers as well. The same constraints should apply to tickets sold as we cannot sell negative tickets. The price of the ticket should only be a decimal number or whole number. We do not need to include the dollar sign as that is denoted in the header.         \n",
    "\n",
    "| Movie Name                  | Genre        | Director         | Running Time (Minutes) | $/ticket | Tickets sold / day (dynamic) |\n",
    "|-----------------------------|--------------|------------------|------------------------|----------|------------------------------|\n",
    "| The Martian                 | Drama/Sci-Fi | Ridley Scott     | 151                    | 15       | 93                           |\n",
    "| The Lion King (Live Action) | Drama/Sci-Fi | Jon Favreau      | 118                    | 11       | 120                          |\n",
    "| Jurassic Park               | Action       | Steven Spielberg | 127                    | 13       | 209                          |"
   ]
  },
  {
   "cell_type": "code",
   "execution_count": null,
   "metadata": {},
   "outputs": [],
   "source": []
  }
 ],
 "metadata": {
  "kernelspec": {
   "display_name": "Python 3",
   "language": "python",
   "name": "python3"
  },
  "language_info": {
   "codemirror_mode": {
    "name": "ipython",
    "version": 3
   },
   "file_extension": ".py",
   "mimetype": "text/x-python",
   "name": "python",
   "nbconvert_exporter": "python",
   "pygments_lexer": "ipython3",
   "version": "3.7.3"
  }
 },
 "nbformat": 4,
 "nbformat_minor": 2
}
